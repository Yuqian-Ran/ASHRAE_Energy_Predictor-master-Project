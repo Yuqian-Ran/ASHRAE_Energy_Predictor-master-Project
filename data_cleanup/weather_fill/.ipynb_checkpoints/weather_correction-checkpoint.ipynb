{
 "cells": [
  {
   "cell_type": "code",
   "execution_count": 1,
   "metadata": {},
   "outputs": [],
   "source": [
    "import numpy as np\n",
    "import pandas as pd\n",
    "import matplotlib.pyplot as plt\n",
    "from sklearn.linear_model import LinearRegression\n",
    "import gc"
   ]
  },
  {
   "cell_type": "code",
   "execution_count": 2,
   "metadata": {},
   "outputs": [],
   "source": [
    "# load all the data\n",
    "df_train = pd.read_csv('../Resources/weather_train.csv')\n",
    "df_train[\"timestamp\"] = pd.to_datetime(df_train[\"timestamp\"], format='%Y-%m-%d %H:%M:%S')\n",
    "df_test = pd.read_csv(\"../Resources/weather_test.csv\")\n",
    "df_test[\"timestamp\"] = pd.to_datetime(df_test[\"timestamp\"], format='%Y-%m-%d %H:%M:%S')\n",
    "df_filled = pd.read_csv('../Large_output/csv/filled_initial.csv')\n",
    "df_filled[\"time\"] = pd.to_datetime(df_filled[\"time\"], format='%Y-%m-%d %H:%M:%S')"
   ]
  },
  {
   "cell_type": "code",
   "execution_count": 3,
   "metadata": {},
   "outputs": [],
   "source": [
    "# load the data from outside we can get\n",
    "fill_weather = pd.read_csv('../Resources/extra_weather_data/more_weather_locations.csv', index_col=0, \n",
    "                           parse_dates=True, infer_datetime_format=True)\\\n",
    "                .join(pd.read_csv('../Resources/extra_weather_data/temperature.csv', index_col=0, parse_dates=True,\n",
    "                                  infer_datetime_format=True,).sub(273),how='left')"
   ]
  },
  {
   "cell_type": "code",
   "execution_count": 4,
   "metadata": {},
   "outputs": [],
   "source": [
    "# merge and get the pivot data\n",
    "weath = pd.concat([df_train, df_test]).set_index(['site_id', 'timestamp'])\n",
    "weath = weath.reindex(pd.MultiIndex.from_product(\n",
    "    [range(16), pd.date_range('2016-01-01', '2018-12-31 23:00', freq='H')]))\n",
    "weath = weath.unstack(level=0).interpolate(limit=2).ffill(limit=1).bfill(limit=1)"
   ]
  },
  {
   "cell_type": "code",
   "execution_count": 5,
   "metadata": {},
   "outputs": [
    {
     "data": {
      "text/html": [
       "<div>\n",
       "<style scoped>\n",
       "    .dataframe tbody tr th:only-of-type {\n",
       "        vertical-align: middle;\n",
       "    }\n",
       "\n",
       "    .dataframe tbody tr th {\n",
       "        vertical-align: top;\n",
       "    }\n",
       "\n",
       "    .dataframe thead th {\n",
       "        text-align: right;\n",
       "    }\n",
       "</style>\n",
       "<table border=\"1\" class=\"dataframe\">\n",
       "  <thead>\n",
       "    <tr style=\"text-align: right;\">\n",
       "      <th></th>\n",
       "      <th>location</th>\n",
       "      <th>corr</th>\n",
       "    </tr>\n",
       "    <tr>\n",
       "      <th>site_id</th>\n",
       "      <th></th>\n",
       "      <th></th>\n",
       "    </tr>\n",
       "  </thead>\n",
       "  <tbody>\n",
       "    <tr>\n",
       "      <th>0</th>\n",
       "      <td>orlando</td>\n",
       "      <td>0.971346</td>\n",
       "    </tr>\n",
       "    <tr>\n",
       "      <th>1</th>\n",
       "      <td>heathrow</td>\n",
       "      <td>0.985568</td>\n",
       "    </tr>\n",
       "    <tr>\n",
       "      <th>2</th>\n",
       "      <td>Phoenix</td>\n",
       "      <td>0.978950</td>\n",
       "    </tr>\n",
       "    <tr>\n",
       "      <th>3</th>\n",
       "      <td>washington</td>\n",
       "      <td>0.990834</td>\n",
       "    </tr>\n",
       "    <tr>\n",
       "      <th>4</th>\n",
       "      <td>San Francisco</td>\n",
       "      <td>0.927506</td>\n",
       "    </tr>\n",
       "    <tr>\n",
       "      <th>5</th>\n",
       "      <td>birmingham</td>\n",
       "      <td>0.944360</td>\n",
       "    </tr>\n",
       "    <tr>\n",
       "      <th>6</th>\n",
       "      <td>washington</td>\n",
       "      <td>0.976488</td>\n",
       "    </tr>\n",
       "    <tr>\n",
       "      <th>7</th>\n",
       "      <td>ottowa</td>\n",
       "      <td>0.990955</td>\n",
       "    </tr>\n",
       "    <tr>\n",
       "      <th>8</th>\n",
       "      <td>orlando</td>\n",
       "      <td>0.971346</td>\n",
       "    </tr>\n",
       "    <tr>\n",
       "      <th>9</th>\n",
       "      <td>sanantonio</td>\n",
       "      <td>0.978205</td>\n",
       "    </tr>\n",
       "    <tr>\n",
       "      <th>10</th>\n",
       "      <td>saltlake</td>\n",
       "      <td>0.974286</td>\n",
       "    </tr>\n",
       "    <tr>\n",
       "      <th>11</th>\n",
       "      <td>ottowa</td>\n",
       "      <td>0.990955</td>\n",
       "    </tr>\n",
       "    <tr>\n",
       "      <th>12</th>\n",
       "      <td>dublin</td>\n",
       "      <td>0.954968</td>\n",
       "    </tr>\n",
       "    <tr>\n",
       "      <th>13</th>\n",
       "      <td>Minneapolis</td>\n",
       "      <td>0.994499</td>\n",
       "    </tr>\n",
       "    <tr>\n",
       "      <th>14</th>\n",
       "      <td>Philadelphia</td>\n",
       "      <td>0.993035</td>\n",
       "    </tr>\n",
       "    <tr>\n",
       "      <th>15</th>\n",
       "      <td>rochester</td>\n",
       "      <td>0.975049</td>\n",
       "    </tr>\n",
       "  </tbody>\n",
       "</table>\n",
       "</div>"
      ],
      "text/plain": [
       "              location      corr\n",
       "site_id                         \n",
       "0              orlando  0.971346\n",
       "1             heathrow  0.985568\n",
       "2              Phoenix  0.978950\n",
       "3           washington  0.990834\n",
       "4        San Francisco  0.927506\n",
       "5           birmingham  0.944360\n",
       "6           washington  0.976488\n",
       "7               ottowa  0.990955\n",
       "8              orlando  0.971346\n",
       "9           sanantonio  0.978205\n",
       "10            saltlake  0.974286\n",
       "11              ottowa  0.990955\n",
       "12              dublin  0.954968\n",
       "13         Minneapolis  0.994499\n",
       "14        Philadelphia  0.993035\n",
       "15           rochester  0.975049"
      ]
     },
     "execution_count": 5,
     "metadata": {},
     "output_type": "execute_result"
    }
   ],
   "source": [
    "# find the corrolation by air_temperature\n",
    "# reason of not 100% fitting is that they are just super nearby \n",
    "# instead of same position or have the missing filling\n",
    "weath_corr = fill_weather.join(weath['air_temperature']).corr().drop(range(16)).loc[:, range(16)]\n",
    "\n",
    "site_id_loc_corr = pd.concat([weath_corr.idxmax(), weath_corr.max()], \n",
    "                             keys=['location', 'corr'], axis=1).rename_axis('site_id')\n",
    "site_id_loc_corr"
   ]
  },
  {
   "cell_type": "code",
   "execution_count": 6,
   "metadata": {},
   "outputs": [
    {
     "name": "stderr",
     "output_type": "stream",
     "text": [
      "/local/home/ningzesun/.local/lib/python3.6/site-packages/pandas/plotting/_matplotlib/converter.py:103: FutureWarning: Using an implicitly registered datetime converter for a matplotlib plotting method. The converter was registered by pandas on import. Future versions of pandas will require you to explicitly register matplotlib converters.\n",
      "\n",
      "To register the converters:\n",
      "\t>>> from pandas.plotting import register_matplotlib_converters\n",
      "\t>>> register_matplotlib_converters()\n",
      "  warnings.warn(msg, FutureWarning)\n"
     ]
    },
    {
     "data": {
      "image/png": "[encoded data removed]",
      "text/plain": [
       "<Figure size 432x288 with 1 Axes>"
      ]
     },
     "metadata": {
      "needs_background": "light"
     },
     "output_type": "display_data"
    }
   ],
   "source": [
    "# showing orlando where is EST temperature peak is 19 around suggesting it is UTC time\n",
    "df_orlando = df_train.loc[df_train['site_id'] == 0,:]\n",
    "df_orlando = df_orlando[['timestamp', 'air_temperature']]\n",
    "df_orlando_merge = df_orlando.merge(fill_weather['orlando'], on = 'timestamp', how = 'left')\n",
    "df_orlando_merge = df_orlando_merge.set_index('timestamp')\n",
    "data = df_orlando_merge.loc['2016-08-01': '2016-08-01']\n",
    "plt.plot(data['air_temperature'])\n",
    "plt.plot(data['orlando'])\n",
    "plt.xticks(rotation=90)\n",
    "plt.show()"
   ]
  },
  {
   "cell_type": "code",
   "execution_count": 7,
   "metadata": {},
   "outputs": [
    {
     "data": {
      "image/png": "[encoded data removed]",
      "text/plain": [
       "<Figure size 432x288 with 1 Axes>"
      ]
     },
     "metadata": {
      "needs_background": "light"
     },
     "output_type": "display_data"
    }
   ],
   "source": [
    "# heathrow is UTC time showing temperature peak is arount 2\n",
    "df_heathrow = df_train.loc[df_train['site_id'] == 1,:]\n",
    "df_heathrow = df_heathrow[['timestamp', 'air_temperature']]\n",
    "df_heathrow_merge = df_heathrow.merge(fill_weather['heathrow'], on = 'timestamp', how = 'left')\n",
    "df_heathrow_merge = df_heathrow_merge.set_index('timestamp')\n",
    "data = df_heathrow_merge.loc['2016-08-01': '2016-08-01']\n",
    "plt.plot(data['air_temperature'])\n",
    "plt.plot(data['heathrow'])\n",
    "plt.xticks(rotation=90)\n",
    "plt.show()"
   ]
  },
  {
   "cell_type": "code",
   "execution_count": 8,
   "metadata": {},
   "outputs": [],
   "source": [
    "# get the dictionary for the site_id to city name\n",
    "site_dict  = {}\n",
    "for loc_name, loc_S in fill_weather.iteritems():\n",
    "    site_scores = []\n",
    "    for site_id, site_S in weath.air_temperature.iteritems():\n",
    "        df = loc_S.to_frame(loc_name).join(site_S)\n",
    "        site_scores.append(df.diff(axis=1).pow(2).mean().pow(0.5).iat[1])\n",
    "    site_dict[loc_name] = site_scores\n",
    "temp_rmse = pd.DataFrame(site_dict, index=range(16))\n",
    "temp_rmse = temp_rmse.drop('San Antonio', axis=1)\n",
    "site_loc_rmse = pd.concat([temp_rmse.idxmin(axis=1), temp_rmse.min(axis=1)], keys=['location', 'RMSE'], axis=1).rename_axis('site_id')\n",
    "site_name = site_loc_rmse.location.to_dict()"
   ]
  },
  {
   "cell_type": "code",
   "execution_count": 9,
   "metadata": {},
   "outputs": [],
   "source": [
    "# resite the location based on correction\n",
    "site_temp = {'orlando': 0, 'heathrow': 1, 'Phoenix': 2, 'washington': 3, 'sanfranitl': 4,\n",
    "             'birmingham': 5, 'ottowa': 6, 'sanantonio': 7, 'saltlake': 8, 'dublin': 9,\n",
    "             'Minneapolis': 10, 'Philadelphia': 11, 'rochester': 12,}\n",
    "site_cor = {}\n",
    "for i in site_name.keys():\n",
    "    site_cor[i] = site_temp[site_name[i]]"
   ]
  },
  {
   "cell_type": "code",
   "execution_count": 11,
   "metadata": {},
   "outputs": [],
   "source": [
    "# check the correlation of weather csv and collected data from darkweather api\n",
    "site_real_cor = {}\n",
    "weather_list = {'air_temperature': 'apparentTemperature', 'cloud_coverage': 'cloudCover', \n",
    "                'dew_temperature': 'dewPoint', 'precip_depth_1_hr': 'precipIntensity'}\n",
    "\n",
    "for j in weather_list.keys():\n",
    "    temp_cor = {}\n",
    "    pivot_weather = df_correct.pivot(index = 'time', columns = 'site_id', values = weather_list[j])\n",
    "    pivot_real = pd.concat([df_train, df_test]).pivot(index = 'timestamp', columns = 'site_id', \n",
    "                                                      values = j)\n",
    "    for i in site_cor.keys():\n",
    "        weather_corr = pd.concat([pivot_weather[site_cor[i]], pivot_real[i]], axis = 1).corr().reset_index()\n",
    "        weather_corr.columns = [0,1,2]\n",
    "        temp_cor[i] = weather_corr[2][0]\n",
    "    site_real_cor[j] = temp_cor"
   ]
  },
  {
   "cell_type": "code",
   "execution_count": 12,
   "metadata": {},
   "outputs": [
    {
     "data": {
      "text/html": [
       "<div>\n",
       "<style scoped>\n",
       "    .dataframe tbody tr th:only-of-type {\n",
       "        vertical-align: middle;\n",
       "    }\n",
       "\n",
       "    .dataframe tbody tr th {\n",
       "        vertical-align: top;\n",
       "    }\n",
       "\n",
       "    .dataframe thead th {\n",
       "        text-align: right;\n",
       "    }\n",
       "</style>\n",
       "<table border=\"1\" class=\"dataframe\">\n",
       "  <thead>\n",
       "    <tr style=\"text-align: right;\">\n",
       "      <th></th>\n",
       "      <th>air_temperature</th>\n",
       "      <th>cloud_coverage</th>\n",
       "      <th>dew_temperature</th>\n",
       "      <th>precip_depth_1_hr</th>\n",
       "    </tr>\n",
       "  </thead>\n",
       "  <tbody>\n",
       "    <tr>\n",
       "      <th>0</th>\n",
       "      <td>0.975828</td>\n",
       "      <td>0.648649</td>\n",
       "      <td>0.988543</td>\n",
       "      <td>0.478750</td>\n",
       "    </tr>\n",
       "    <tr>\n",
       "      <th>1</th>\n",
       "      <td>0.991228</td>\n",
       "      <td>0.294096</td>\n",
       "      <td>0.986224</td>\n",
       "      <td>NaN</td>\n",
       "    </tr>\n",
       "    <tr>\n",
       "      <th>2</th>\n",
       "      <td>0.990138</td>\n",
       "      <td>0.689029</td>\n",
       "      <td>0.983118</td>\n",
       "      <td>0.300045</td>\n",
       "    </tr>\n",
       "    <tr>\n",
       "      <th>3</th>\n",
       "      <td>0.990203</td>\n",
       "      <td>0.782995</td>\n",
       "      <td>0.994323</td>\n",
       "      <td>0.580863</td>\n",
       "    </tr>\n",
       "    <tr>\n",
       "      <th>4</th>\n",
       "      <td>0.938549</td>\n",
       "      <td>0.541697</td>\n",
       "      <td>0.914351</td>\n",
       "      <td>0.746662</td>\n",
       "    </tr>\n",
       "    <tr>\n",
       "      <th>5</th>\n",
       "      <td>0.939236</td>\n",
       "      <td>0.228580</td>\n",
       "      <td>0.942338</td>\n",
       "      <td>NaN</td>\n",
       "    </tr>\n",
       "    <tr>\n",
       "      <th>6</th>\n",
       "      <td>0.977308</td>\n",
       "      <td>0.405792</td>\n",
       "      <td>0.981641</td>\n",
       "      <td>0.190722</td>\n",
       "    </tr>\n",
       "    <tr>\n",
       "      <th>7</th>\n",
       "      <td>0.992480</td>\n",
       "      <td>NaN</td>\n",
       "      <td>0.997667</td>\n",
       "      <td>0.536967</td>\n",
       "    </tr>\n",
       "    <tr>\n",
       "      <th>8</th>\n",
       "      <td>0.975828</td>\n",
       "      <td>0.648649</td>\n",
       "      <td>0.988543</td>\n",
       "      <td>0.478750</td>\n",
       "    </tr>\n",
       "    <tr>\n",
       "      <th>9</th>\n",
       "      <td>0.979778</td>\n",
       "      <td>0.447240</td>\n",
       "      <td>0.981883</td>\n",
       "      <td>0.299041</td>\n",
       "    </tr>\n",
       "    <tr>\n",
       "      <th>10</th>\n",
       "      <td>0.988169</td>\n",
       "      <td>0.531088</td>\n",
       "      <td>0.955472</td>\n",
       "      <td>0.531596</td>\n",
       "    </tr>\n",
       "    <tr>\n",
       "      <th>11</th>\n",
       "      <td>0.992480</td>\n",
       "      <td>NaN</td>\n",
       "      <td>0.997667</td>\n",
       "      <td>0.536967</td>\n",
       "    </tr>\n",
       "    <tr>\n",
       "      <th>12</th>\n",
       "      <td>0.975190</td>\n",
       "      <td>0.859839</td>\n",
       "      <td>0.989269</td>\n",
       "      <td>NaN</td>\n",
       "    </tr>\n",
       "    <tr>\n",
       "      <th>13</th>\n",
       "      <td>0.994150</td>\n",
       "      <td>0.804853</td>\n",
       "      <td>0.996002</td>\n",
       "      <td>0.650996</td>\n",
       "    </tr>\n",
       "    <tr>\n",
       "      <th>14</th>\n",
       "      <td>0.991105</td>\n",
       "      <td>0.651438</td>\n",
       "      <td>0.994854</td>\n",
       "      <td>0.540257</td>\n",
       "    </tr>\n",
       "    <tr>\n",
       "      <th>15</th>\n",
       "      <td>0.971126</td>\n",
       "      <td>0.292466</td>\n",
       "      <td>0.978422</td>\n",
       "      <td>0.260844</td>\n",
       "    </tr>\n",
       "  </tbody>\n",
       "</table>\n",
       "</div>"
      ],
      "text/plain": [
       "    air_temperature  cloud_coverage  dew_temperature  precip_depth_1_hr\n",
       "0          0.975828        0.648649         0.988543           0.478750\n",
       "1          0.991228        0.294096         0.986224                NaN\n",
       "2          0.990138        0.689029         0.983118           0.300045\n",
       "3          0.990203        0.782995         0.994323           0.580863\n",
       "4          0.938549        0.541697         0.914351           0.746662\n",
       "5          0.939236        0.228580         0.942338                NaN\n",
       "6          0.977308        0.405792         0.981641           0.190722\n",
       "7          0.992480             NaN         0.997667           0.536967\n",
       "8          0.975828        0.648649         0.988543           0.478750\n",
       "9          0.979778        0.447240         0.981883           0.299041\n",
       "10         0.988169        0.531088         0.955472           0.531596\n",
       "11         0.992480             NaN         0.997667           0.536967\n",
       "12         0.975190        0.859839         0.989269                NaN\n",
       "13         0.994150        0.804853         0.996002           0.650996\n",
       "14         0.991105        0.651438         0.994854           0.540257\n",
       "15         0.971126        0.292466         0.978422           0.260844"
      ]
     },
     "execution_count": 12,
     "metadata": {},
     "output_type": "execute_result"
    }
   ],
   "source": [
    "pd.DataFrame.from_dict(site_real_cor)"
   ]
  },
  {
   "cell_type": "code",
   "execution_count": 13,
   "metadata": {},
   "outputs": [
    {
     "data": {
      "image/png": "[encoded data removed]",
      "text/plain": [
       "<Figure size 432x288 with 1 Axes>"
      ]
     },
     "metadata": {
      "needs_background": "light"
     },
     "output_type": "display_data"
    }
   ],
   "source": [
    "# heathrow is UTC time showing temperature peak is arount 2\n",
    "df_heathrow = df_train.loc[df_train['site_id'] == 1,:]\n",
    "df_heathrow = df_heathrow[['timestamp', 'dew_temperature']]\n",
    "df_heathrow_merge = pd.merge(df_heathrow, df_filled.loc[df_filled['site_id'] == 1,['dewPoint', 'time']],\n",
    "                              right_on = 'time', left_on = 'timestamp', how = 'left')\n",
    "df_heathrow_merge = df_heathrow_merge.set_index('timestamp')\n",
    "data = df_heathrow_merge.loc['2016-08-01': '2016-08-01']\n",
    "plt.plot(data['dew_temperature'], color = 'orange')\n",
    "plt.plot(data['dewPoint'], color = 'red')\n",
    "plt.xticks(rotation=90)\n",
    "plt.show()"
   ]
  },
  {
   "cell_type": "code",
   "execution_count": 14,
   "metadata": {},
   "outputs": [],
   "source": [
    "# find the regression of dew_temperature and the filled\n",
    "j = 'dew_temperature'\n",
    "slope = []\n",
    "intercept = []\n",
    "pivot_weather = df_correct.pivot(index = 'time', columns = 'site_id', values = weather_list[j])\n",
    "pivot_real = pd.concat([df_train, df_test]).pivot(index = 'timestamp', columns = 'site_id', values = j)\n",
    "for i in site_cor.keys():\n",
    "    dew_model = LinearRegression()\n",
    "    weather_corr = pd.concat([pivot_weather[site_cor[i]], pivot_real[i]], axis = 1).dropna()\n",
    "    weather_corr.columns = ['x', 'y']\n",
    "    x = np.array(weather_corr['x']).reshape(-1, 1)\n",
    "    y = np.array(weather_corr['y']).reshape(-1, 1)\n",
    "    dew_model.fit(x, y)\n",
    "    temp = dew_model.coef_\n",
    "    slope.append(list(dew_model.coef_[0])[0])\n",
    "    temp = dew_model.intercept_\n",
    "    intercept.append(list(temp)[0])"
   ]
  },
  {
   "cell_type": "code",
   "execution_count": 15,
   "metadata": {},
   "outputs": [],
   "source": [
    "# fill in the air temperature, cloud coverage and description in test weather csv\n",
    "df_test['description'] = ''\n",
    "for i in df_test.index:\n",
    "    site_id = df_test['site_id'][i]\n",
    "    time_stamp = df_test['timestamp'][i]\n",
    "    if pd.isnull(df_test['air_temperature'][i]):\n",
    "        site_id = df_test['site_id'][i]\n",
    "        time_stamp = df_test['timestamp'][i]\n",
    "        df_test['air_temperature'][i] = fill_weather[site_name[site_id]][time_stamp]\n",
    "    if pd.isnull(df_test['cloud_coverage'][i]):\n",
    "        try:\n",
    "            df_test['cloud_coverage'][i] = df_filled.loc[df_filled['site_id'] == site_cor[df_test['site_id'][i]], 'cloudCover']\\\n",
    "            .loc[df_filled['time'] == df_test['timestamp'][i]].values[0] * 10\n",
    "        except:\n",
    "            df_test['cloud_coverage'][i] = np.nan\n",
    "    try:\n",
    "        df_test['description'][i] = df_filled.loc[df_filled['site_id'] == site_cor[df_test['site_id'][i]], 'icon']\\\n",
    "        .loc[df_filled['time'] == df_test['timestamp'][i]].values[0]\n",
    "    except:\n",
    "        df_test['description'][i] = np.nan"
   ]
  },
  {
   "cell_type": "code",
   "execution_count": 16,
   "metadata": {},
   "outputs": [],
   "source": [
    "# fill in the air temperature, cloud coverage and description in train weather csv\n",
    "df_train['description'] = ''\n",
    "for i in df_train.index:\n",
    "    site_id = df_train['site_id'][i]\n",
    "    time_stamp = df_train['timestamp'][i]\n",
    "    if pd.isnull(df_train['air_temperature'][i]):\n",
    "        site_id = df_train['site_id'][i]\n",
    "        time_stamp = df_train['timestamp'][i]\n",
    "        df_train['air_temperature'][i] = fill_weather[site_name[site_id]][time_stamp]\n",
    "    if pd.isnull(df_train['cloud_coverage'][i]):\n",
    "        try:\n",
    "            df_train['cloud_coverage'][i] = df_filled.loc[df_filled['site_id'] == site_cor[df_train['site_id'][i]], 'cloudCover']\\\n",
    "            .loc[df_filled['time'] == df_train['timestamp'][i]].values[0] * 10\n",
    "        except:\n",
    "            df_train['cloud_coverage'][i] = np.nan\n",
    "    try:\n",
    "        df_train['description'][i] = df_filled.loc[df_filled['site_id'] == site_cor[df_train['site_id'][i]], 'icon']\\\n",
    "        .loc[df_filled['time'] == df_train['timestamp'][i]].values[0]\n",
    "    except:\n",
    "        df_train['description'][i] = np.nan"
   ]
  },
  {
   "cell_type": "code",
   "execution_count": 17,
   "metadata": {},
   "outputs": [],
   "source": [
    "# fill the dew_temperature\n",
    "df_list = [df_train_filled, df_test_filled]\n",
    "for j in df_list:\n",
    "    for i in j.index:\n",
    "        site_id = j['site_id'][i]\n",
    "        time_stamp = j['timestamp'][i]\n",
    "        if pd.isnull(j['dew_temperature'][i]):\n",
    "            try:\n",
    "                j['dew_temperature'][i] = df_filled.loc[df_filled['site_id'] == site_cor[j['site_id'][i]], 'dewPoint']\\\n",
    "                .loc[df_filled['time'] == j['timestamp'][i]].values[0] * slope[site_id] + intercept[site_id]\n",
    "            except:\n",
    "                j['dew_temperature'][i] = np.nan"
   ]
  },
  {
   "cell_type": "code",
   "execution_count": 18,
   "metadata": {},
   "outputs": [],
   "source": [
    "df_test_filled.to_csv('../../../Large_output/csv/fill_test_weather.csv')\n",
    "df_train_filled.to_csv('../../../Large_output/csv/fill_train_weather.csv')"
   ]
  },
  {
   "cell_type": "code",
   "execution_count": 19,
   "metadata": {},
   "outputs": [
    {
     "data": {
      "text/plain": [
       "7603"
      ]
     },
     "execution_count": 19,
     "metadata": {},
     "output_type": "execute_result"
    }
   ],
   "source": [
    "del df_heathrow, df_heathrow_merge, site_loc_rmse, df_orlando_merge, df_orlando, df_filled, df_test\n",
    "gc.collect()"
   ]
  }
 ],
 "metadata": {
  "kernelspec": {
   "display_name": "Python 3",
   "language": "python",
   "name": "python3"
  },
  "language_info": {
   "codemirror_mode": {
    "name": "ipython",
    "version": 3
   },
   "file_extension": ".py",
   "mimetype": "text/x-python",
   "name": "python",
   "nbconvert_exporter": "python",
   "pygments_lexer": "ipython3",
   "version": "3.7.4"
  }
 },
 "nbformat": 4,
 "nbformat_minor": 1
}
